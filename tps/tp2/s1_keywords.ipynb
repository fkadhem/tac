{
 "cells": [
  {
   "cell_type": "markdown",
   "metadata": {},
   "source": [
    "# Extraction de mots-clés pour l'année 1961"
   ]
  },
  {
   "cell_type": "markdown",
   "metadata": {},
   "source": [
    "## Imports"
   ]
  },
  {
   "cell_type": "code",
   "execution_count": 14,
   "metadata": {},
   "outputs": [],
   "source": [
    "import os\n",
    "import yake"
   ]
  },
  {
   "cell_type": "markdown",
   "metadata": {},
   "source": [
    "## Extraire les mots clés des documents avec Yake"
   ]
  },
  {
   "cell_type": "code",
   "execution_count": 15,
   "metadata": {},
   "outputs": [
    {
     "data": {
      "text/plain": [
       "<yake.yake.KeywordExtractor at 0x1e8f6ec2610>"
      ]
     },
     "execution_count": 15,
     "metadata": {},
     "output_type": "execute_result"
    }
   ],
   "source": [
    "# Instantier l'extracteur de mots clés\n",
    "kw_extractor = yake.KeywordExtractor(lan=\"fr\", top=50)\n",
    "kw_extractor"
   ]
  },
  {
   "cell_type": "code",
   "execution_count": null,
   "metadata": {},
   "outputs": [],
   "source": [
    "# Filtrer les Fichiers\n",
    "data_path = \"../../data/txt/\"\n",
    "files = [f for f in os.listdir(data_path) if f.endswith('.txt') and '1961' in f]"
   ]
  },
  {
   "cell_type": "code",
   "execution_count": 17,
   "metadata": {},
   "outputs": [
    {
     "data": {
      "text/plain": [
       "100"
      ]
     },
     "execution_count": 17,
     "metadata": {},
     "output_type": "execute_result"
    }
   ],
   "source": [
    "# Imprimer le nombre de fichiers identifiés\n",
    "len(files)"
   ]
  },
  {
   "cell_type": "code",
   "execution_count": null,
   "metadata": {},
   "outputs": [
    {
     "name": "stdout",
     "output_type": "stream",
     "text": [
      "KB_JB838_1961-01-05_01-00016.txt mentions these keywords: Marco Sachim, Filippa Martinez, dit Marco, Sachim eut, DERNIERE EDITION, EDITION PARUE, Opel Rek, som JEUDI, CHAUFFEUR VOITURES, VOITURE NEUVE, VOITURES NEUVES, VOITURE MEME...\n",
      "KB_JB838_1961-01-14_01-00013.txt mentions these keywords: fil PRO, THEATRE NATIONAL, THEATRE FLAMAND, Cirque Royal, janvier MONNAIE, cirque Busch, Ancienne Belgique, JACQUES DEVAL, THEATRE ROYAL, THEATRE MOLIERE, MONNAIE TRM, MOLIERE Dimanche, Centre culturel...\n",
      "KB_JB838_1961-01-18_01-00023.txt mentions these keywords: uSn l'Un, fia Asldsit, Volant Logique, Opel VOITURES, FIAT Mùttipla, Coupé Lutte, Austin Healey, Coupé MERCEDES...\n",
      "KB_JB838_1961-01-19_01-00006.txt mentions these keywords: Ford Taunus, politique allemande, affaire Pasternak, grand poète, Affaires économiques, vie politique, Communauté politique, Marché commun, mercredi matin, ministre Van...\n",
      "KB_JB838_1961-01-22_01-00006.txt mentions these keywords: Notes belges, ACTUALITÉS ÉCONOMIQUES, SOIR DIMANCHE, francs belges, production d’acier, d’acier brut, production industrielle, New York, FII lit, chantiers navals, nouvelle banque...\n",
      "KB_JB838_1961-01-27_01-00006.txt mentions these keywords: général Challe, l’auto VIII, Edmond Taillet, SOIR VENDREDI, Gilson nous, nous dit, Conseil communal, général Salan, nous avons, Filippa Martinez, nouveau moteur...\n",
      "KB_JB838_1961-02-02_01-00019.txt mentions these keywords: AGENCE ROSSEL, l'Agence ROSSEL, KMPf.tlVK DILINOUE, IMPORTANTE FIRME, situation stable, SOIR JEUDI, Ecrire Agence, ROSSEL bous...\n",
      "KB_JB838_1961-02-04_01-00004.txt mentions these keywords: NEW YORK, l’Oiseau Blanc, Oiseau blanc, Maine n'dppartiennent, TRIBUNAL CORRECTIONNEL, YORK COURS, cours jour, nom. ach, jeudi soir, habitant rue...\n",
      "KB_JB838_1961-02-11_01-00017.txt mentions these keywords: Agence Rossel, l’Agence ROSSEL, SOIR Société, Ecrire AGENCE, grilles métalliques, renommée mondiale, choisis bénéficieront, Rossel num, bonne dactylo, bonne présentation, constructions métalliques, FIRME IMPORTANTE...\n",
      "KB_JB838_1961-02-11_01-00018.txt mentions these keywords: AGENCE ROSSEL, PHILIPS MEMOMATIC, Ecrire Agence, Luxueuse ébfinisterie, MEMOMATIC mieux, Nouvel écran, Rossel num, SOIR SAMEDI, l’Agence Rossel, croque uri, mieux qu'automatique, commutation automatique, noyer poli, haut-parleurs commutation, canaux mémomatic, Faire offre, bâtons Côte, curriculum vitae...\n",
      "KB_JB838_1961-02-11_01-00023.txt mentions these keywords: JOHN PRENTICE, OPEL REKORD, OPEL Kap, bon état, Chevrolet Luxe, Opel Kapit, TENBOSCH Tél...\n",
      "KB_JB838_1961-02-12_01-00012.txt mentions these keywords: RÉUSSITE FIAT, FIAT Carburateur, Spiegelaere bat, Valiez bat, Cosyn bat, Bemden bat, Grande Harmonie, Carburateur double, Programme varié, musique belge...\n",
      "KB_JB838_1961-02-16_01-00015.txt mentions these keywords: TJntrée carroM, WATERLOO Tél, villa mod, Coin rue...\n",
      "KB_JB838_1961-02-17_01-00012.txt mentions these keywords: prix choc, VENTES CHOCS, musique légère, CADO RADIO, JAMAIS VUS, PRIX JAMAIS, Châssis radio, Radio scolaire, pays africains, Orchestre National, Disques demandés, SERVICE RAPIDE, MUSIQUE LEGERE, scs musiques, Ecran cinéma...\n",
      "KB_JB838_1961-02-21_01-00013.txt mentions these keywords: Van den, grand bal, samedi soir, Van Onseien, Van Leynscele, Van Daele, Félix Van, bal annuel...\n",
      "KB_JB838_1961-02-25_01-00004.txt mentions these keywords: rue Merlin, Serge Lifar, vendredi matin, Jeudi soir, anciens francs, rue Van...\n",
      "KB_JB838_1961-03-01_01-00011.txt mentions these keywords: New York, Big Ben, New Yorkais, SUPPLÉMENT PARAISSANT, sud anb, anb snd, uos saj, dés New, SEMAINE MERCREDI, James Goodgcback, un,p anb, sap and, Théodore Paphe, snoA inb, Mnajja aun, Big Bon, DERNIERE MINUTE...\n",
      "KB_JB838_1961-03-02_01-00016.txt mentions these keywords: bel app, Propriétaires Tél, louer app, lux. app, louer Tél, Offloe Propriétaires, app. mod, AVENUE LOUISE, Nations tél, Louise App, pet. app, Bel appartement, Chevaliers Tél...\n",
      "KB_JB838_1961-03-07_01-00006.txt mentions these keywords: Thuin Chambre, parti national, Turnhout Chambre, parti indépendant, Jean Van, Saint-Trond Province, Marcel Van, Gedinne Province, Malines Province, Malines Chambres, Van Hoylandt, SOIR MARDI, Albert Van, Rochefort Province, Van Bever...\n",
      "KB_JB838_1961-03-08_01-00012.txt mentions these keywords: PÈRE BRICOLE, ÛTtUlMd SACHEZ, nUCIEH ÛTtUlMd, NIE SOMMES, SOMMES BONIS, MCUS NIE, C'EST INSENSÉ, sap auns, New York, MOUS TOMBONS, uos anb...\n",
      "KB_JB838_1961-03-23_01-00020.txt mentions these keywords: COUTTJRR Dent., Dent. boii, rue Van, Bruxelles demande, Bons salaires, Bruxelles dem, Maroquinerie dem...\n",
      "KB_JB838_1961-03-25_01-00012.txt mentions these keywords: belle villa, Vis. sam, VEND maison, VAN DEN, DEN HAUTE, HAUTE Tél, rue Ducale, VILLA mod, villa neuve, coin rue, Ducale Tél, Chevaliers Tél...\n",
      "KB_JB838_1961-03-31_01-00010.txt mentions these keywords: d’un point, Eupen point, Wavre Sport, hareng frais, seconde période...\n",
      "KB_JB838_1961-04-02_01-00013.txt mentions these keywords: FFRMETURE DEFINITIVE, REMISE Documents, librairie SALMAIN, Musique légère, Orchestre léger, Musique Intime, Disques demandés, Programme varié, FRANCE III, Disques légers, ruo Rubens, Musique ancienne, Gancia Gancia, Disques actualités, Disques FRANCE, Thlrd Programme...\n",
      "KB_JB838_1961-04-02_01-00018.txt mentions these keywords: l’Agence Rossel, SOIR DIMANCHE, Agence Rossel, Faire offre, BRUXELLES demande, curriculum vltae, IMPORTANTE SOCIETE, demande DACTYLO, IMPORTANTE FIRME, Ecrire Agence, offre manuscrite...\n",
      "KB_JB838_1961-04-04_01-00010.txt mentions these keywords: HELENE FRANÇOIS, petit poisson, petits moteurs, moteurs électriques, Petite cuiller, n’en voit, MAISON motorisée, CHAUSSETTES NOIRES, cuiller truite, Cuillers truites...\n",
      "KB_JB838_1961-04-07_01-00016.txt mentions these keywords: SOIR VENDREDI, l’AGENCE ROSSEL, Chemical International, curriculum vitae, Dow Chemical, Vilvorde demande, DACTYLO BILINGUE, International Limited, Agce Rossel, English and...\n",
      "KB_JB838_1961-04-12_01-00019.txt mentions these keywords: l’AGENCE ROSSEL, Faire offre, IMPORTANTE FIRME, entrée immédiate, DACTYLO bilingue, IMPORTANTE SOCIETE, Situation stable, bilingue Ecrire, PLACE cherche, CURRICULUM VITAE, Agence Rossel, SECRETAIRE bilingue...\n",
      "KB_JB838_1961-04-14_01-00003.txt mentions these keywords: conseil général, Valentina Gagarine, jeudi soir, Youri Gagarine, gouvernement belge, Affaires étrangères, Moscou prépare, réuni jeudi...\n",
      "KB_JB838_1961-04-14_01-00015.txt mentions these keywords: clayettes Inoxydables, VENDREDI MODELE, Valeur JLQOOC, freezer humide, hauteur réglable, vaste compartiment, Brux Tél, moteur TECUMSEH, Valeur XMSO, prise intérieure, Ecrire Agence, Villa neuve...\n",
      "KB_JB838_1961-04-15_01-00016.txt mentions these keywords: plastique MUR, MAMAN SAMEDI, Décidément MUR, app. mod, peinture plastique, ÿlus extraordinaire, FUTURE MAMAN, PLACE MADOU, Michel Ange...\n",
      "KB_JB838_1961-04-15_01-00020.txt mentions these keywords: NOUVEAUX MODELES, MODELES ITALIENS, Semelles cuir, PAIRES D’ESCARPINS, D’ESCARPINS NOUVEAUX, avril jusqu’à, SOIR SAMEDI, choix Semelles, f'sj fui, ITALIENS entièrement, jusqu’à épuisement, CENTRE com...\n",
      "KB_JB838_1961-04-20_01-00022.txt mentions these keywords: SOIR JEUDI, DEVIS GRATUIT, Stirling Moss, rue Ernest, Fourrures MAISON, MAISON ANDREE, placé Tél, GRAND CHOIX, GRATUIT Tél, JEUNES CHIENS, Robinson Llnkebeek, rue Kogter...\n",
      "KB_JB838_1961-04-22_01-00006.txt mentions these keywords: Musique enregistrée, Musique légère, France III, Musique classique, Musique récréative, Orchestre symphonique, Bonne journée, Bel Canto, Musique populaire, grande musique, Musique sacrée, Orchestre léger, Emissions françaises, Orchestre National, Disques demandés, Concert symphonique...\n",
      "KB_JB838_1961-04-29_01-00022.txt mentions these keywords: Opel Rek, rue Jourdan, bon état, SOIR Entte, Bas prix, rue Eloy., manquo d’eau, triple filtre, filtre gaz, rue Eloy, rue Vanderkindere, OPEL Rekord...\n",
      "KB_JB838_1961-04-30_01-00007.txt mentions these keywords: Van Mol, Van Poelvoorde, Van Himst, Patro Eisden, Van der, Van Hostaeyen, Van Cauwelaert, but liégeois, Waterschei fut, but défendu, mais Segat, Standard accéléra...\n",
      "KB_JB838_1961-05-03_01-00024.txt mentions these keywords: SOIR MERCREDI, IDERNIERE EDITION, EDITION PARUE, Opel Rekord, reproduction Interdit, Opel Karavan, Luxe Opel, Rekord Chevrolet, Karavan Opel, Chevrolet Luxe, luxe Chevrolet, Opel Kaplt, OPEL KAP...\n",
      "KB_JB838_1961-05-04_01-00006.txt mentions these keywords: Okt qut, Banque Nationale, Rue Neuve, Semaine Semaine, SPORT Rue, Commission nationale, semaine précédente...\n",
      "KB_JB838_1961-05-09_01-00002.txt mentions these keywords: vaisseaux lymphatiques, parti libéral, varices lymphatiques, commerce française, nouveau président, charbonnages belges, Mais qu’il, troubles pou, troubles groupés, rlstiques structurelles...\n",
      "KB_JB838_1961-05-13_01-00018.txt mentions these keywords: bâton Côte, Bons gages, Côte d’Or, Agence Rossel, Côte d’Or., jne servante, Ecrire Agence, Jne fille, ACTION DEFINITION, servante Int...\n",
      "KB_JB838_1961-05-25_01-00023.txt mentions these keywords: ANCIENS ÉTABLISSEMENTS, OPEL REK, Opel Rekord, Conditions spéciales, ÉTABLISSEMENTS D'IETEREN, D'IETEREN FRÈRES, Opel Karavan, Opel Kapit, Cachet Immédiat, Luxe Opel, Rekord Chevrolet, uit bus, lann ühia...\n",
      "KB_JB838_1961-06-04_01-00017.txt mentions these keywords: Agence Rossel, belle Villa, Libre Tél, TONGLET Tél, Ecrire Agence, BRUXELLES Tél...\n",
      "KB_JB838_1961-06-07_01-00006.txt mentions these keywords: NEW YORK, Cours jour, jour Juillet, juin COURS, PROCES EICHMANN, juin Juillet, Clôture New, Ventes totales, Cours préc...\n",
      "KB_JB838_1961-06-14_01-00012.txt mentions these keywords: POURRONS FAIRE, VlNAT-PEUX KILOS, sjuiod saj, bas Dahomey, MOUS distribue, haut Dahomey, SÜR ÜNE, ÜNE MANNEÎ, snou snou, snou anb, sai suap...\n",
      "KB_JB838_1961-06-16_01-00024.txt mentions these keywords: Mère Jeanne, Mauvais Coups, Suzy PARKER, som Mère, iigures dominantes, Harry Andrews, Maria Schell, Stuart Whitman, Bradford Dillman, LUCYNA WINNICKA, polonais Mère, Grand Prix, qu’il s’agisse, Roger Vaillant, poignaîxt drame...\n",
      "KB_JB838_1961-06-23_01-00005.txt mentions these keywords: République démocratique, Café Greco, l’Allemagne orientale, l’Allemagne occidentale, Colette Duval, Chine populaire, usine électrique, frontière occidentale, capitaines courageux, Mais Rossini, République fédérale...\n",
      "KB_JB838_1961-06-23_01-00011.txt mentions these keywords: Dollar canadien, Anglo American, NEW YORK, Brux Brux, Royal Dutch, Banque Congo, Congo lots...\n",
      "KB_JB838_1961-06-23_01-00019.txt mentions these keywords: Agence Rossel, Ecrire Agence, IMPORTANTE demande, JEUNE FILLE, l'Agence Rossel, IMPORTANTE SOCIETE, som Dem, semaine Ecrire...\n",
      "KB_JB838_1961-06-25_01-00001.txt mentions these keywords: TOURNAI QUOTIDIEN, Parlement congolais, heureux événement, Grand Maréchal, d’autre part, Simone Tits, GRANDS TOURS...\n",
      "KB_JB838_1961-06-30_01-00013.txt mentions these keywords: New York, Colonie Congo, Banque Congo, Angola Diamond, Ford Motor, Congo lots, Royal Dutch, Anvers 56-71, Anglo American...\n",
      "KB_JB838_1961-06-30_01-00019.txt mentions these keywords: Agence Rossel, l’Agence Rossel, entrée Immédiate, cellei Uotss, Ecrire Agence, Rossel num, FIRME IMPORTANTE, Age max, ite cellei, Importante firme...\n",
      "KB_JB838_1961-07-01_01-00011.txt mentions these keywords: New York, Royal Dutch, Colonie Congo, cours compensation, Banque Congo...\n",
      "KB_JB838_1961-07-11_01-00018.txt mentions these keywords: C'est pourtant, Agence Rossel, Bons salaires, COIFFEUR dem, Tav. dem...\n",
      "KB_JB838_1961-07-15_01-00006.txt mentions these keywords: Musée communal, Musée Hôtel, dit Eichmann, Musée provincial, Exposition d'art, Musée royal, Musée Plantln, Kent Sandford, Musée national, Musée diocésain, Festival International, fois Eichmann, Mrs Sandford, Musée Memling, Musée Baretta...\n",
      "KB_JB838_1961-07-16_01-00004.txt mentions these keywords: mont Blanc, samedi matin, grièvement blessé, francs belges, d’une fracture, habitant rue, Vendredi matin, samedi soir, collision s’est...\n",
      "KB_JB838_1961-07-18_01-00019.txt mentions these keywords: pneu MICHELIN, Agence Rossel, Bas prix, Atelier Tél, bon état...\n",
      "KB_JB838_1961-07-29_01-00017.txt mentions these keywords: VANDEN BORRE, Agence Rossei, l'AGENCE ROSSEL, Bruxelles demande, rue Van, Taverne dem, Importante SOCIETE...\n",
      "KB_JB838_1961-08-02_01-00017.txt mentions these keywords: Bruxelles Tél, Cleaner TÉL, PRETS HYPOT, Bruxelles Belle, GRATUIT Tél, Eburons Tél, CREDIT BRUXELLES, DISCRET Tél...\n",
      "KB_JB838_1961-08-05_01-00002.txt mentions these keywords: discours Lumumba, Adolf Hitler, roi Albert, Lumumba prononça, NEW YORK, malheureux discours, Lumumba allait, acharnement extraordinaire, van Strydonck, anciens soldats, Roi Chevalier, Renée Gosset...\n",
      "KB_JB838_1961-08-06_01-00014.txt mentions these keywords: frs Tél, Ravenstcin Tél, Maison rapport, Congrès Tél, Immo Congrès, Belle Propriété...\n",
      "KB_JB838_1961-08-06_01-00016.txt mentions these keywords: Agence Rossel, l’Agence ROSSEL, Boulevard METTEWIE, ROSSEL numéro, Ecrire Agence, IMPORTANTE SOCIETE, BRUXELLES demande, app. mod, bel app, Faire offre...\n",
      "KB_JB838_1961-08-27_01-00008.txt mentions these keywords: Van Slchem, Van Looy, Van Gansbeke, puis Van, Van Gool, Van der, Van Kerkhoven, Van Camp, Van Lande, Van Poelvoorde, Van Dormael, but fut, but liégeois, Massart Van, Los buts, Van Laer, reprise fut...\n",
      "KB_JB838_1961-09-08_01-00015.txt mentions these keywords: bel app, louer app, app mod, Louise app, Frigo Tél...\n",
      "KB_JB838_1961-09-08_01-00024.txt mentions these keywords: Sophia Loren, Castra fSophla, CIOCIARA Castra, d’un film, Peter Sellers, Nils Poppe, Eleonora BROWN, Juliet Prowse, Louis Chauvet, fSophla LOREN, Grd Garage, d'un film, David Lodge, SERVICE SERVICE...\n",
      "KB_JB838_1961-09-10_01-00001.txt mentions these keywords: JOURNAL QUOTIDIEN, Marguerite Bervoets, Soir Illustré, d’André Fontainas, politique algérienne, secrétaire général...\n",
      "KB_JB838_1961-09-12_01-00012.txt mentions these keywords: New York, Colonie Congo, Congo lots, lots Congo, frfttléea vendredi, cours Indicatifs, Laln Esc...\n",
      "KB_JB838_1961-09-13_01-00011.txt mentions these keywords: lues MRS, iiniiiiniïiii iiitiü, irlj riOncrnlf, iiitiü lues, l'an entant, formanl Illll., PaliclM Ivl, Ivl paru, ans Catégorie, uni poi, GRAND CONCOURS, GRAND PRIX...\n",
      "KB_JB838_1961-09-14_01-00006.txt mentions these keywords: Banque Nationale, court terme, dette publique, dette extérieure, fin août, semaine passée...\n",
      "KB_JB838_1961-09-19_01-00009.txt mentions these keywords: BIBLIOGRAPHIE POLITIQUE, POLITIQUE L'Intraduction, John Whiting, sciences humaines, DIVISION III, Cercle Privé, John Osborne, pièce historique, Robert Boit, Chamber Orchestra, jeunes auteurs...\n",
      "KB_JB838_1961-09-21_01-00011.txt mentions these keywords: New York, MARITIME BELGE, cours compensation, Colonie Congo, Royal Duteh, Haute Autorité, LLOYD ROYAL, COMPAGNIE MARITIME, Union Chimique, Union Minière, Société Belge...\n",
      "KB_JB838_1961-09-22_01-00023.txt mentions these keywords: SEPTEMBRE Hêkard, Hêkard fin, Prince Héritier, rue Stanley, voiture Tél, Bruxelles tél, Waterloo Tél, Midi Tél, bon état, Poincaré Tél...\n",
      "KB_JB838_1961-10-08_01-00011.txt mentions these keywords: division III, fresh Air, Antwerp Giants, Van Harck, seconde période, Van Proyden, Logis DIVISION, DIVISION mit, Firenze division, match fut, Van Der, Union Nautique, remis DIVISION...\n",
      "KB_JB838_1961-10-10_01-00016.txt mentions these keywords: SOIE MARDI, Agence Rossel, l'AGENCE ROSSEL, Faire offre, Rossel num, curriculum vitae, MAGASINIER BIL, EMPLOYEE DACTYLO, Bruxelles Ecrire, Rogier BRUXELLES...\n",
      "KB_JB838_1961-10-21_01-00018.txt mentions these keywords: PILULES ROUGES, PECTORAL DUPUIS, RODE WU.W, Maintenez l'intestin, l’Agence Rossel, Sucez alors, Souvent constipée, souvent fatiguée, eussl souvent, cherche Déléglié, Agence Rossel, IMPORTANTE FIRME, HAVAS Bruxelles, DUPUIS ENTREPRISE...\n",
      "KB_JB838_1961-10-27_01-00004.txt mentions these keywords: New York, Clôture New, cours d’une, Cours jour, rue Van, demeurant rue, New Orléans, d’un homme...\n",
      "KB_JB838_1961-10-29_01-00012.txt mentions these keywords: service funèbre, Monsieur Emile, tient lieu, MADAME VEUVE, madame Charles, Madame René, avis tient, présent avis, MONSIEUR van, André Musch, Madame Jean...\n",
      "KB_JB838_1961-10-29_01-00026.txt mentions these keywords: Agence Rossel, OPTION D'ACHAT, Ecrire Agence, BRUXELLES tél, LOCATION SIMPLE, CAFE COIN, CENTRE VILLE, rue Van...\n",
      "KB_JB838_1961-11-04_01-00013.txt mentions these keywords: Manteau long, maintenant faire, frs Dossier, Office Moderna...\n",
      "KB_JB838_1961-11-07_01-00005.txt mentions these keywords: EXPERIENCE PEDAGOGIQUE, PEDAGOGIQUE L'enseignement, Léon Devos, Jazz Quartet, Modem Jazz, mathématique moderne, Edgar Doneux...\n",
      "KB_JB838_1961-11-09_01-00016.txt mentions these keywords: Office Propriétaires, BEL APP, App. mod, Bruxelles Tél, CAMBRE App...\n",
      "KB_JB838_1961-11-14_01-00020.txt mentions these keywords: Matériau noblo, Agence Rossel, cse décès, LOUER Grand, racler permet...\n",
      "KB_JB838_1961-11-15_01-00024.txt mentions these keywords: OPEL Rek, PARUE MERCREDI, DERNIERE EDITION, EDITION PARUE, Millon nuit, The New, New Yorker., Opel Rekord, Opel Kap, PASTILLES TRICIDINE, Opel Rekorrt, Opel Karavan...\n",
      "KB_JB838_1961-11-17_01-00024.txt mentions these keywords: GERARD BARRAY, René Jeanne, retrouvent tei, Charles Ford, BON DIEU, LOLA MONTES, Gianni Franciolini, d'un film, von Ambesser, René Clair, JOURNAL d’un...\n",
      "KB_JB838_1961-11-19_01-00022.txt mentions these keywords: Bel app, Office Propriétaires, BEL APPART, App. mod, louer app, Pet. appart...\n",
      "KB_JB838_1961-11-23_01-00014.txt mentions these keywords: VAN DEN, DEN PLAS, François VAN, Louis VAN, René VAN, Monsieur François, Monsieur René, Monsieur Louis, Vente publique...\n",
      "KB_JB838_1961-11-24_01-00018.txt mentions these keywords: App. mod, Bruxelles Tél, enfants santé, santé physique, rue Belliard, app mod, LOUISE App...\n",
      "KB_JB838_1961-11-29_01-00023.txt mentions these keywords: L’HOMME D’AFFAIRES, Opel Rek, Ets Suetena, ANCIENS ÉTABLISSEMENTS, FLORIDE voua, Crédit Tél, contr. techn, OCCASIONS PEUGEOT, FLORIDE existe, CHETONS voitures, Uccle Tél...\n",
      "KB_JB838_1961-12-02_01-00003.txt mentions these keywords: Conseil communal, Nations Unies, Chine populaire, Flandre wallonne, représentation chinoise, Front commun...\n",
      "KB_JB838_1961-12-02_01-00007.txt mentions these keywords: square Montgomery, vous pouvez, Travaux publics, Bruxelles menacée, VOUS ETES, Tervueren d'une, Evrard propose, Société Générale...\n",
      "KB_JB838_1961-12-03_01-00001.txt mentions these keywords: IOURNAL QUOTIDIEN, dimanche soir, policiers katangais, gendarmes katangais, fleuve Congo, rue Royale, Samedi soir, président katangais, derniers jours...\n",
      "KB_JB838_1961-12-05_01-00001.txt mentions these keywords: JOURNAL QUOTIDIEN, Soir Illustré, Nouveau renforcement, dimanche soir, blessés graves, Lundi matin...\n",
      "KB_JB838_1961-12-09_01-00024.txt mentions these keywords: SOIRÉE PEUT-ELLE, Mode TENUE, tenue idéale, petites robes, petite robe, Extrêmement pratique, IDEALEMENT PRATIQUE, robe assortie, signée Dior, robe fourreau, Lanvin Castillo...\n",
      "KB_JB838_1961-12-13_01-00010.txt mentions these keywords: francs suisses, New York, Union Chimique, Union Minière, Royal Dutch, lots Anvers, Anglo American, d'autre part, Franc suisse, lots Lots, Angola Diamond, cours Indicatifs...\n",
      "KB_JB838_1961-12-14_01-00011.txt mentions these keywords: NEW YORK, Royal Dutch, Union Minière, Société Minière, Fonds Naf, francs suisses, Doc Gand, Dollar can, Fonds Fiducem...\n",
      "KB_JB838_1961-12-15_01-00024.txt mentions these keywords: Delphine Seyrig, ALBERTO RUSCHEL, Milton Ribeiro, AVRORA DUARTE, SOIR VENDREDI, tantôt dans, films dans, Jean Vigo, plllardi bréslllens, unis jusqu'au, loi plllardi, grands films, voyons dans, passe dans, dans l'esprit, cinéma dans, Vigo Dans, Conny Froboess...\n",
      "KB_JB838_1961-12-17_01-00006.txt mentions these keywords: SOIR DIMANCHE, Banque Nationale, banques belges, qualité ordinaire, pétrole russe, long terme, beurre fondu, beurre excédentaire, développement économique...\n",
      "KB_JB838_1961-12-24_01-00012.txt mentions these keywords: Idem Idem, France III, Musique légère, Musique enregistrée, SELECTION Lundi, Noël EMISSION, CONCERTS France, SOIR DIMANCHE, Concert Buxtehude, décembre NOËL, Noël ITALIE, Concert Beethoven, Musique populaire, bonnes qualités, religieuse catholique, musique ancienne, Emission religieuse, qualité ordinaire, C’est Noël...\n",
      "KB_JB838_1961-12-26_01-00003.txt mentions these keywords: Nations Unies, Triste Noël, arabe unie, Jean XXIII, Congo belge, Pape s’est, Noël Alger, monde entier...\n",
      "KB_JB838_1961-12-28_01-00004.txt mentions these keywords: NEW YORK, Louvain Inauguration, som JEUDI, Mgr van, van Waeyenbergh, mercredi matin, Magda Debruyne, domicilié rue, Hal Mercredi...\n",
      "KB_JB838_1961-12-30_01-00015.txt mentions these keywords: Opel Rekord, haut prix, BRUXELLES tél, bon piano, Prix d'Usine, Int. mén...\n"
     ]
    }
   ],
   "source": [
    "#Extraire les fichiers de l'année 1961 en en ne gardant que les bigrammes\n",
    "for f in sorted(files): \n",
    "    text = open(os.path.join(data_path, f), 'r', encoding=\"utf-8\").read()\n",
    "    keywords = kw_extractor.extract_keywords(text)\n",
    "    kept = []  \n",
    "    for kw, score in keywords:\n",
    "        words = kw.split()\n",
    "        if len(words) == 2:\n",
    "            kept.append(kw)\n",
    "    print(f\"{f} mentions these keywords: {', '.join(kept)}...\")"
   ]
  }
 ],
 "metadata": {
  "kernelspec": {
   "display_name": "tac_venv",
   "language": "python",
   "name": "python3"
  },
  "language_info": {
   "codemirror_mode": {
    "name": "ipython",
    "version": 3
   },
   "file_extension": ".py",
   "mimetype": "text/x-python",
   "name": "python",
   "nbconvert_exporter": "python",
   "pygments_lexer": "ipython3",
   "version": "3.11.9"
  }
 },
 "nbformat": 4,
 "nbformat_minor": 4
}
