{
 "cells": [
  {
   "cell_type": "markdown",
   "metadata": {},
   "source": [
    "# Scraping: récupération de la page d'accueil du journal Le Soir\n",
    "\n",
    "Dans ce notebook, nous créons un robot qui va ouvrir la page d'accueil du site du journal [Le Soir](https://www.lesoir.be/) et récupérer le titre de tous les articles du jour et les stocker dans un fichier csv."
   ]
  },
  {
   "cell_type": "markdown",
   "metadata": {},
   "source": [
    "## Imports"
   ]
  },
  {
   "cell_type": "code",
   "execution_count": 1,
   "metadata": {},
   "outputs": [],
   "source": [
    "import re\n",
    "import time\n",
    "import requests\n",
    "from bs4 import BeautifulSoup\n",
    "import pandas as pd"
   ]
  },
  {
   "cell_type": "markdown",
   "metadata": {},
   "source": [
    "## Récupération de tous les articles de la page d'accueil\n",
    "\n"
   ]
  },
  {
   "cell_type": "code",
   "execution_count": 2,
   "metadata": {},
   "outputs": [],
   "source": [
    "headers = {'User-Agent': 'Mozilla/5.0 (Macintosh; Intel Mac OS X 10_10_1) AppleWebKit/537.36 (KHTML, like Gecko) Chrome/39.0.2171.95 Safari/537.36'}\n",
    "\n",
    "articles = []\n",
    "\n",
    "root_url = f\"https://www.rtbf.be\"\n",
    "response = requests.get(root_url, headers=headers)\n",
    "soup = BeautifulSoup(response.text, 'html.parser')\n",
    "for link in soup.find_all(\"a\", {\"class\":\"stretched-link outline-hidden\"}):\n",
    "    title = link.text.strip()\n",
    "    url = root_url + link.get('href')\n",
    "    articles.append([url, title])"
   ]
  },
  {
   "cell_type": "code",
   "execution_count": 3,
   "metadata": {},
   "outputs": [
    {
     "data": {
      "text/plain": [
       "80"
      ]
     },
     "execution_count": 3,
     "metadata": {},
     "output_type": "execute_result"
    }
   ],
   "source": [
    "# Affichage du nombre d'articles récupérés\n",
    "len(articles)"
   ]
  },
  {
   "cell_type": "code",
   "execution_count": 4,
   "metadata": {},
   "outputs": [
    {
     "data": {
      "text/plain": [
       "[['https://www.rtbf.be/article/ligue-des-champions-feminine-paris-fc-oh-leuven-debuts-historiques-pour-les-louvanistes-direct-video-21h-11611931',\n",
       "  'Champions League féminine\\xa0: OH Louvain remonte deux buts au Paris FC pour des débuts réussis dans la compétition'],\n",
       " ['https://www.rtbf.be/article/derriere-les-discours-rassurants-l-europe-inquiete-de-la-situation-politique-en-france-11612383',\n",
       "  'Derrière les discours rassurants, l’Europe inquiète de la situation politique en France'],\n",
       " ['https://www.rtbf.be/article/matias-fernandez-pardo-decline-la-convocation-de-l-espagne-pour-privilegier-la-belgique-11612592',\n",
       "  'Matias Fernandez-Pardo décline la convocation de l’Espagne, pour privilégier la Belgique\\xa0?'],\n",
       " ['https://www.rtbf.be/article/direct-guerre-au-proche-orient-minute-de-silence-des-familles-des-victimes-du-7-octobre-sur-le-site-du-festival-nova-11612087',\n",
       "  'Direct – Guerre au Proche-Orient\\xa0: émotion et recueillement à Tel-Aviv pour le deuxième anniversaire du 7-Octobre (revoir notre direct)'],\n",
       " ['https://www.rtbf.be/article/novak-djokovic-rejoint-zizou-bergs-en-quarts-de-finale-a-shanghai-11612565',\n",
       "  'Novak Djokovic rejoint Zizou Bergs en quarts de finale à Shanghai'],\n",
       " ['https://www.rtbf.be/article/avec-icecube-le-physicien-belge-francis-halzen-etait-a-une-particule-fantome-du-prix-nobel-de-physique-11612432',\n",
       "  'Avec IceCube, le physicien belge Francis Halzen était à une «\\xa0particule fantôme\\xa0» du Prix Nobel de physique'],\n",
       " ['https://www.rtbf.be/article/ikea-du-meuble-en-kit-a-la-crise-sociale-l-epopee-suedoise-entre-innovations-et-remises-en-question-11612232',\n",
       "  'IKEA\\xa0: du meuble en kit à la crise sociale, l’épopée suédoise entre innovations et remises en question'],\n",
       " ['https://www.rtbf.be/article/bd-la-maison-du-canal-du-simenon-dans-la-campagne-flamande-11612151',\n",
       "  'BD\\xa0: La Maison du Canal, du Simenon dans la campagne flamande'],\n",
       " ['https://www.rtbf.be/article/seneffe-la-fin-possible-du-conflit-chez-alysse-food-deux-delegues-syndicaux-contre-117-emplois-11612547',\n",
       "  'Seneffe\\xa0: la fin possible du conflit chez Alysse Food. Deux délégués syndicaux contre 117 emplois.'],\n",
       " ['https://www.rtbf.be/article/l-arabie-saoudite-tente-t-elle-d-etendre-son-influence-culturelle-a-travers-assassin-s-creed-11612327',\n",
       "  'L\\'Arabie saoudite tente-t-elle d\\'étendre son influence culturelle à travers \"Assassin\\'s Creed\" ?']]"
      ]
     },
     "execution_count": 4,
     "metadata": {},
     "output_type": "execute_result"
    }
   ],
   "source": [
    "# Affichage des 10 premières entrées\n",
    "articles[:10]"
   ]
  },
  {
   "cell_type": "markdown",
   "metadata": {},
   "source": [
    "## Création d'un dataframe avec les liens et les titres des articles\n"
   ]
  },
  {
   "cell_type": "code",
   "execution_count": 5,
   "metadata": {},
   "outputs": [
    {
     "data": {
      "text/html": [
       "<div>\n",
       "<style scoped>\n",
       "    .dataframe tbody tr th:only-of-type {\n",
       "        vertical-align: middle;\n",
       "    }\n",
       "\n",
       "    .dataframe tbody tr th {\n",
       "        vertical-align: top;\n",
       "    }\n",
       "\n",
       "    .dataframe thead th {\n",
       "        text-align: right;\n",
       "    }\n",
       "</style>\n",
       "<table border=\"1\" class=\"dataframe\">\n",
       "  <thead>\n",
       "    <tr style=\"text-align: right;\">\n",
       "      <th></th>\n",
       "      <th>link</th>\n",
       "      <th>title</th>\n",
       "    </tr>\n",
       "  </thead>\n",
       "  <tbody>\n",
       "    <tr>\n",
       "      <th>0</th>\n",
       "      <td>https://www.rtbf.be/article/ligue-des-champion...</td>\n",
       "      <td>Champions League féminine : OH Louvain remonte...</td>\n",
       "    </tr>\n",
       "    <tr>\n",
       "      <th>1</th>\n",
       "      <td>https://www.rtbf.be/article/derriere-les-disco...</td>\n",
       "      <td>Derrière les discours rassurants, l’Europe inq...</td>\n",
       "    </tr>\n",
       "    <tr>\n",
       "      <th>2</th>\n",
       "      <td>https://www.rtbf.be/article/matias-fernandez-p...</td>\n",
       "      <td>Matias Fernandez-Pardo décline la convocation ...</td>\n",
       "    </tr>\n",
       "    <tr>\n",
       "      <th>3</th>\n",
       "      <td>https://www.rtbf.be/article/direct-guerre-au-p...</td>\n",
       "      <td>Direct – Guerre au Proche-Orient : émotion et ...</td>\n",
       "    </tr>\n",
       "    <tr>\n",
       "      <th>4</th>\n",
       "      <td>https://www.rtbf.be/article/novak-djokovic-rej...</td>\n",
       "      <td>Novak Djokovic rejoint Zizou Bergs en quarts d...</td>\n",
       "    </tr>\n",
       "    <tr>\n",
       "      <th>...</th>\n",
       "      <td>...</td>\n",
       "      <td>...</td>\n",
       "    </tr>\n",
       "    <tr>\n",
       "      <th>75</th>\n",
       "      <td>https://www.rtbf.behttps://auvio.rtbf.be/media...</td>\n",
       "      <td>Les Niouzz</td>\n",
       "    </tr>\n",
       "    <tr>\n",
       "      <th>76</th>\n",
       "      <td>https://www.rtbf.behttps://auvio.rtbf.be/media...</td>\n",
       "      <td>Demain nous appartient</td>\n",
       "    </tr>\n",
       "    <tr>\n",
       "      <th>77</th>\n",
       "      <td>https://www.rtbf.behttps://auvio.rtbf.be/media...</td>\n",
       "      <td>Tsaatan de Mongolie : les derniers hommes libres</td>\n",
       "    </tr>\n",
       "    <tr>\n",
       "      <th>78</th>\n",
       "      <td>https://www.rtbf.behttps://auvio.rtbf.be/media...</td>\n",
       "      <td>Tarmac Comedy</td>\n",
       "    </tr>\n",
       "    <tr>\n",
       "      <th>79</th>\n",
       "      <td>https://www.rtbf.behttps://auvio.rtbf.be/media...</td>\n",
       "      <td>Ici tout commence</td>\n",
       "    </tr>\n",
       "  </tbody>\n",
       "</table>\n",
       "<p>80 rows × 2 columns</p>\n",
       "</div>"
      ],
      "text/plain": [
       "                                                 link  \\\n",
       "0   https://www.rtbf.be/article/ligue-des-champion...   \n",
       "1   https://www.rtbf.be/article/derriere-les-disco...   \n",
       "2   https://www.rtbf.be/article/matias-fernandez-p...   \n",
       "3   https://www.rtbf.be/article/direct-guerre-au-p...   \n",
       "4   https://www.rtbf.be/article/novak-djokovic-rej...   \n",
       "..                                                ...   \n",
       "75  https://www.rtbf.behttps://auvio.rtbf.be/media...   \n",
       "76  https://www.rtbf.behttps://auvio.rtbf.be/media...   \n",
       "77  https://www.rtbf.behttps://auvio.rtbf.be/media...   \n",
       "78  https://www.rtbf.behttps://auvio.rtbf.be/media...   \n",
       "79  https://www.rtbf.behttps://auvio.rtbf.be/media...   \n",
       "\n",
       "                                                title  \n",
       "0   Champions League féminine : OH Louvain remonte...  \n",
       "1   Derrière les discours rassurants, l’Europe inq...  \n",
       "2   Matias Fernandez-Pardo décline la convocation ...  \n",
       "3   Direct – Guerre au Proche-Orient : émotion et ...  \n",
       "4   Novak Djokovic rejoint Zizou Bergs en quarts d...  \n",
       "..                                                ...  \n",
       "75                                         Les Niouzz  \n",
       "76                             Demain nous appartient  \n",
       "77   Tsaatan de Mongolie : les derniers hommes libres  \n",
       "78                                      Tarmac Comedy  \n",
       "79                                  Ici tout commence  \n",
       "\n",
       "[80 rows x 2 columns]"
      ]
     },
     "execution_count": 5,
     "metadata": {},
     "output_type": "execute_result"
    }
   ],
   "source": [
    "df = pd.DataFrame(articles, columns=['link', 'title'])\n",
    "df"
   ]
  },
  {
   "cell_type": "code",
   "execution_count": 6,
   "metadata": {},
   "outputs": [],
   "source": [
    "# Sauvegarde du dataframe dans un fichier csv\n",
    "df.to_csv(f\"../data/rtbf_{time.strftime('%Y%m%d')}.csv\", index=False)"
   ]
  },
  {
   "cell_type": "markdown",
   "metadata": {},
   "source": [
    "## Téléchargement d'un article et affichage du texte"
   ]
  },
  {
   "cell_type": "code",
   "execution_count": 7,
   "metadata": {},
   "outputs": [
    {
     "name": "stdout",
     "output_type": "stream",
     "text": [
      "Champions League féminine : OH Louvain remonte deux buts au Paris FC pour des débuts réussis dans la compétition\n",
      "==================================\n",
      "A la hauteur du rendez-vous, les Louvanistes ont sans doute payé un peu d’inexpérience et une sacrée dose d’émotion lors d’une entame de partie particulièrement mal gérée. Le Paris FC, vainqueur de la dernière Coupe de France et 3e du dernier championnat français, a en effet fait mouche dès la 3e minute sur une reprise timide mais efficace de  Daphné Corboz.\n",
      "Louvain a tenté de réagir immédiatement mais s’est à nouveau fait surprendre sur une perte de balle à la 23e minute. La capitaine  Clara Matéo  inscrivant alors le 2-0.\n",
      "Les débats se sont davantage équilibrés dans la foulée avec plusieurs actions intéressantes de la part des Louvanistes. Constant une différence de niveau moins marquée qu’attendu, OHL a pris son courage à deux mains en deuxième période pour renverser la vapeur.\n",
      "La montée au jeu de la jeune  Kadhiya De Ceuster , 16 ans, dès le début de la deuxième période a tout de suite produit l’effet escompté.  Kim Everaerts  a profité de cette nouvelle dynamique pour réduire l’écart immédiatement à la 47e minute. Revigorées, les Louvanistes n’ont pas tardé à égaliser. De Ceuster a ainsi obligé la gardienne parisienne à réaliser une belle claquette (60e) avant que la Hongroise  Sara Pusztai  ne fasse 2-2 d’une superbe frappe enroulée en lucarne (63e).\n",
      "Après l’égalisation, Louvain a levé un peu le pied de l’accélérateur et s’est concentré sur ses tâches défensives alors que le Paris FC a repris le dessus dans le dernier quart d’heure. C’est pourtant De Ceuster qui a eu la balle de match au bout du pied dans les arrêts de jeu mais la Louvaniste a manqué son face-à-face (90e+ 1).\n",
      "La semaine prochaine, OH Louvain recevra Twente pour son deuxième match dans la compétition. Les autres rendez-vous des championnes de Belgique sont prévus face au FC Barcelone, à Arsenal, au PSG et à l’AS Roma.\n",
      "\n",
      "Mots clés de l'article\n",
      "Copyright ©  2025  RTBF\n"
     ]
    }
   ],
   "source": [
    "# Récupération du premier lien du dataframe\n",
    "article_url = df.iloc[0][0]\n",
    "\n",
    "# Ouverture de la page\n",
    "response = requests.get(article_url, headers=headers)\n",
    "soup = BeautifulSoup(response.content, 'html.parser')\n",
    "# Parsing du contenu\n",
    "title = soup.find(\"h1\").get_text(separator=' ')\n",
    "\n",
    "paragraphs = []\n",
    "for paragraph in soup.find_all(\"p\", attrs={\"class\": None}):\n",
    "    paragraphs.append(paragraph.get_text(separator=' ').strip())\n",
    "\n",
    "content = \"\\n\".join(paragraphs)\n",
    "print(title)\n",
    "print(\"==================================\")\n",
    "print(content)"
   ]
  },
  {
   "cell_type": "markdown",
   "metadata": {},
   "source": [
    "### Nettoyage du texte à l'aide d'expressions régulières"
   ]
  },
  {
   "cell_type": "code",
   "execution_count": 8,
   "metadata": {},
   "outputs": [
    {
     "name": "stdout",
     "output_type": "stream",
     "text": [
      "A la hauteur du rendez-vous, les Louvanistes ont sans doute payé un peu d’inexpérience et une sacrée dose d’émotion lors d’une entame de partie particulièrement mal gérée. Le Paris FC, vainqueur de la dernière Coupe de France et 3e du dernier championnat français, a en effet fait mouche dès la 3e minute sur une reprise timide mais efficace de  Daphné Corboz.\n",
      "Louvain a tenté de réagir immédiatement mais s’est à nouveau fait surprendre sur une perte de balle à la 23e minute. La capitaine  Clara Matéo  inscrivant alors le 2-0.\n",
      "Les débats se sont davantage équilibrés dans la foulée avec plusieurs actions intéressantes de la part des Louvanistes. Constant une différence de niveau moins marquée qu’attendu, OHL a pris son courage à deux mains en deuxième période pour renverser la vapeur.\n",
      "La montée au jeu de la jeune  Kadhiya De Ceuster , 16 ans, dès le début de la deuxième période a tout de suite produit l’effet escompté.  Kim Everaerts  a profité de cette nouvelle dynamique pour réduire l’écart immédiatement à la 47e minute. Revigorées, les Louvanistes n’ont pas tardé à égaliser. De Ceuster a ainsi obligé la gardienne parisienne à réaliser une belle claquette (60e) avant que la Hongroise  Sara Pusztai  ne fasse 2-2 d’une superbe frappe enroulée en lucarne (63e).\n",
      "Après l’égalisation, Louvain a levé un peu le pied de l’accélérateur et s’est concentré sur ses tâches défensives alors que le Paris FC a repris le dessus dans le dernier quart d’heure. C’est pourtant De Ceuster qui a eu la balle de match au bout du pied dans les arrêts de jeu mais la Louvaniste a manqué son face-à-face (90e+ 1).\n",
      "La semaine prochaine, OH Louvain recevra Twente pour son deuxième match dans la compétition. Les autres rendez-vous des championnes de Belgique sont prévus face au FC Barcelone, à Arsenal, au PSG et à l’AS Roma.\n",
      "\n",
      "Mots clés de l'article\n",
      "Copyright ©  2025  RTBF\n",
      "==================================\n",
      "A la hauteur du rendez-vous, les Louvanistes ont sans doute payé un peu d’inexpérience et une sacrée dose d’émotion lors d’une entame de partie particulièrement mal gérée. Le Paris FC, vainqueur de la dernière Coupe de France et 3e du dernier championnat français, a en effet fait mouche dès la 3e minute sur une reprise timide mais efficace de Daphné Corboz. Louvain a tenté de réagir immédiatement mais s’est à nouveau fait surprendre sur une perte de balle à la 23e minute. La capitaine Clara Matéo inscrivant alors le 2-0. Les débats se sont davantage équilibrés dans la foulée avec plusieurs actions intéressantes de la part des Louvanistes. Constant une différence de niveau moins marquée qu’attendu, OHL a pris son courage à deux mains en deuxième période pour renverser la vapeur. La montée au jeu de la jeune Kadhiya De Ceuster , 16 ans, dès le début de la deuxième période a tout de suite produit l’effet escompté. Kim Everaerts a profité de cette nouvelle dynamique pour réduire l’écart immédiatement à la 47e minute. Revigorées, les Louvanistes n’ont pas tardé à égaliser. De Ceuster a ainsi obligé la gardienne parisienne à réaliser une belle claquette avant que la Hongroise Sara Pusztai ne fasse 2-2 d’une superbe frappe enroulée en lucarne . Après l’égalisation, Louvain a levé un peu le pied de l’accélérateur et s’est concentré sur ses tâches défensives alors que le Paris FC a repris le dessus dans le dernier quart d’heure. C’est pourtant De Ceuster qui a eu la balle de match au bout du pied dans les arrêts de jeu mais la Louvaniste a manqué son face-à-face . La semaine prochaine, OH Louvain recevra Twente pour son deuxième match dans la compétition. Les autres rendez-vous des championnes de Belgique sont prévus face au FC Barcelone, à Arsenal, au PSG et à l’AS Roma. Mots clés de l'article Copyright © 2025 RTBF\n"
     ]
    }
   ],
   "source": [
    "# Suppression de tout ce qui se trouve entre parenthèses\n",
    "clean_content = re.sub(\"\\([^\\)]+\\)\", \" \", content)\n",
    "# Suppression des espaces multiples\n",
    "clean_content = re.sub(\"\\s+\", \" \", clean_content)\n",
    "\n",
    "print(content)\n",
    "print(\"==================================\")\n",
    "print(clean_content)\n"
   ]
  },
  {
   "cell_type": "markdown",
   "metadata": {},
   "source": [
    "### Création d'un fichier avec le contenu de l'article\n"
   ]
  },
  {
   "cell_type": "code",
   "execution_count": 9,
   "metadata": {},
   "outputs": [],
   "source": [
    "with open(\"../data/rtbf_example.txt\", \"w\") as writer:\n",
    "    writer.write(f\"{title}\\n\\n{clean_content}\")"
   ]
  },
  {
   "cell_type": "markdown",
   "metadata": {},
   "source": [
    "## Pour en savoir plus"
   ]
  },
  {
   "cell_type": "markdown",
   "metadata": {},
   "source": [
    "- Le web scraping avec Python: https://realpython.com/beautiful-soup-web-scraper-python/\n",
    "- Tutoriel sur les expressions régulières: https://www.w3schools.com/python/python_regex.asp"
   ]
  }
 ],
 "metadata": {
  "kernelspec": {
   "display_name": "tac_venv",
   "language": "python",
   "name": "python3"
  },
  "language_info": {
   "codemirror_mode": {
    "name": "ipython",
    "version": 3
   },
   "file_extension": ".py",
   "mimetype": "text/x-python",
   "name": "python",
   "nbconvert_exporter": "python",
   "pygments_lexer": "ipython3",
   "version": "3.11.9"
  }
 },
 "nbformat": 4,
 "nbformat_minor": 4
}
